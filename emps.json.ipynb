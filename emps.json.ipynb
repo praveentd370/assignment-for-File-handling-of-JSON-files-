{
 "cells": [
  {
   "cell_type": "code",
   "execution_count": null,
   "id": "893f1129",
   "metadata": {},
   "outputs": [],
   "source": [
    "{\"1\": {\"name\": \"Madhusudan\", \"dob\": \"23-11-1998\", \"height\": \"5.1\", \"city\": \"Kota\", \"state\": \"Rajasthan\"},\n",
    " \"2\": {\"name\": \"Abhishek\", \"dob\": \"12-7-1992\", \"height\": \"5.2\", \"city\": \"Jaipur\", \"state\": \"Rajasthan\"}, \n",
    " \"3\": {\"name\": \"Sonu\", \"dob\": \"19-11-1995\", \"height\": \"4.9\", \"city\": \"Jodhpur\", \"state\": \"Rajasthan\"}, \n",
    " \"4\": {\"name\": \"Hrishika\", \"dob\": \"23-1-1997\", \"height\": \"4.8\", \"city\": \"Ajmer\", \"state\": \"Rajasthan\"}, \n",
    " \"5\": {\"name\": \"Daksh\", \"dob\": \"29-10-1998\", \"height\": \"4.9\", \"city\": \"Udaipur\", \"state\": \"Rajasthan\"}\n",
    "}\n"
   ]
  }
 ],
 "metadata": {
  "kernelspec": {
   "display_name": "Python 3 (ipykernel)",
   "language": "python",
   "name": "python3"
  },
  "language_info": {
   "codemirror_mode": {
    "name": "ipython",
    "version": 3
   },
   "file_extension": ".py",
   "mimetype": "text/x-python",
   "name": "python",
   "nbconvert_exporter": "python",
   "pygments_lexer": "ipython3",
   "version": "3.9.12"
  }
 },
 "nbformat": 4,
 "nbformat_minor": 5
}
