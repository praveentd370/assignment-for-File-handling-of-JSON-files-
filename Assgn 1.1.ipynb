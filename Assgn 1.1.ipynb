{
 "cells": [
  {
   "cell_type": "code",
   "execution_count": 2,
   "id": "045f190d",
   "metadata": {},
   "outputs": [
    {
     "name": "stdout",
     "output_type": "stream",
     "text": [
      "Enter your name: praveen\n",
      "Enter your DOB: 30/08/2000\n",
      "Enter your height: 5.3\n",
      "Enter your city: Mudhol\n",
      "Enter your state: Karnataka\n",
      "Enter your name: kiran\n",
      "Enter your DOB: 18/10/2000\n",
      "Enter your height: 6\n",
      "Enter your city: goa\n",
      "Enter your state: goa\n",
      "Enter your name: jatin\n",
      "Enter your DOB: 30/5/1999\n",
      "Enter your height: 5.3\n",
      "Enter your city: Galagali\n",
      "Enter your state: karnataka\n",
      "Enter your name: nandi\n",
      "Enter your DOB: 4/5/2000\n",
      "Enter your height: 6\n",
      "Enter your city: bagalkot\n",
      "Enter your state: karnataka\n",
      "Enter your name: somq\n",
      "Enter your DOB: 4/6/2000\n",
      "Enter your height: 5.6\n",
      "Enter your city: bangalore\n",
      "Enter your state: karnataka\n",
      "--------------------------------------------------\n",
      "[{'name': 'praveen', 'dob': '30/08/2000', 'height': '5.3', 'city': 'Mudhol', 'state': 'Karnataka'}]\n",
      "[{'name': 'kiran', 'dob': '18/10/2000', 'height': '6', 'city': 'goa', 'state': 'goa'}]\n",
      "[{'name': 'jatin', 'dob': '30/5/1999', 'height': '5.3', 'city': 'Galagali', 'state': 'karnataka'}]\n",
      "[{'name': 'nandi', 'dob': '4/5/2000', 'height': '6', 'city': 'bagalkot', 'state': 'karnataka'}]\n",
      "[{'name': 'somq', 'dob': '4/6/2000', 'height': '5.6', 'city': 'bangalore', 'state': 'karnataka'}]\n"
     ]
    }
   ],
   "source": [
    "import json\n",
    "class Employee:\n",
    "    def __init__(self):\n",
    "        self.emp_dic={}\n",
    "    def creat_JSON(self):\n",
    "        for i in range(5):\n",
    "            name = input(\"Enter your name: \")\n",
    "            dob = input('Enter your DOB: ')\n",
    "            height = input('Enter your height: ')\n",
    "            city = input('Enter your city: ')\n",
    "            state = input('Enter your state: ')\n",
    "            emp={'name':name,'dob':dob,'height':height,'city':city,'state':state}\n",
    "            emp_id = len(self.emp_dic)+1\n",
    "            self.emp_dic[emp_id]=emp\n",
    "        with open(\"emps.json\",'w') as f:\n",
    "            json.dump(self.emp_dic,f)\n",
    "\n",
    "    def data_print(self):\n",
    "        with open(\"emps.json\",\"r\") as f:\n",
    "            data = json.load(f)\n",
    "        for i in data.values():\n",
    "            l1 = []\n",
    "            l1.append(i)\n",
    "            print(l1)   \n",
    "\n",
    "x =Employee()            \n",
    "x.creat_JSON()\n",
    "print(\"--------------------------------------------------\")\n",
    "x.data_print()  "
   ]
  },
  {
   "cell_type": "code",
   "execution_count": null,
   "id": "8ba3d2cd",
   "metadata": {},
   "outputs": [],
   "source": []
  }
 ],
 "metadata": {
  "kernelspec": {
   "display_name": "Python 3 (ipykernel)",
   "language": "python",
   "name": "python3"
  },
  "language_info": {
   "codemirror_mode": {
    "name": "ipython",
    "version": 3
   },
   "file_extension": ".py",
   "mimetype": "text/x-python",
   "name": "python",
   "nbconvert_exporter": "python",
   "pygments_lexer": "ipython3",
   "version": "3.9.12"
  }
 },
 "nbformat": 4,
 "nbformat_minor": 5
}
